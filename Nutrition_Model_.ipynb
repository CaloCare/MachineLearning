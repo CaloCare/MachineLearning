{
  "nbformat": 4,
  "nbformat_minor": 0,
  "metadata": {
    "colab": {
      "provenance": [],
      "authorship_tag": "ABX9TyMXLJE59qj41gHH7ZeYlUS2",
      "include_colab_link": true
    },
    "kernelspec": {
      "name": "python3",
      "display_name": "Python 3"
    },
    "language_info": {
      "name": "python"
    }
  },
  "cells": [
    {
      "cell_type": "markdown",
      "metadata": {
        "id": "view-in-github",
        "colab_type": "text"
      },
      "source": [
        "<a href=\"https://colab.research.google.com/github/CaloCare/MachineLearning/blob/main/Nutrition_Model_.ipynb\" target=\"_parent\"><img src=\"https://colab.research.google.com/assets/colab-badge.svg\" alt=\"Open In Colab\"/></a>"
      ]
    },
    {
      "cell_type": "code",
      "execution_count": 3,
      "metadata": {
        "id": "tLsDxZazpj40"
      },
      "outputs": [],
      "source": [
        "import pandas as pd\n",
        "from sklearn.model_selection import train_test_split\n",
        "import tensorflow as tf"
      ]
    },
    {
      "cell_type": "code",
      "source": [
        "!pip install keras-tuner --upgrade\n"
      ],
      "metadata": {
        "colab": {
          "base_uri": "https://localhost:8080/"
        },
        "id": "RoHP4AWIquJm",
        "outputId": "95515d93-cdc6-46fe-c562-e5fa91e3ae34"
      },
      "execution_count": 5,
      "outputs": [
        {
          "output_type": "stream",
          "name": "stdout",
          "text": [
            "Collecting keras-tuner\n",
            "  Downloading keras_tuner-1.4.7-py3-none-any.whl.metadata (5.4 kB)\n",
            "Requirement already satisfied: keras in /usr/local/lib/python3.10/dist-packages (from keras-tuner) (3.5.0)\n",
            "Requirement already satisfied: packaging in /usr/local/lib/python3.10/dist-packages (from keras-tuner) (24.2)\n",
            "Requirement already satisfied: requests in /usr/local/lib/python3.10/dist-packages (from keras-tuner) (2.32.3)\n",
            "Collecting kt-legacy (from keras-tuner)\n",
            "  Downloading kt_legacy-1.0.5-py3-none-any.whl.metadata (221 bytes)\n",
            "Requirement already satisfied: absl-py in /usr/local/lib/python3.10/dist-packages (from keras->keras-tuner) (1.4.0)\n",
            "Requirement already satisfied: numpy in /usr/local/lib/python3.10/dist-packages (from keras->keras-tuner) (1.26.4)\n",
            "Requirement already satisfied: rich in /usr/local/lib/python3.10/dist-packages (from keras->keras-tuner) (13.9.4)\n",
            "Requirement already satisfied: namex in /usr/local/lib/python3.10/dist-packages (from keras->keras-tuner) (0.0.8)\n",
            "Requirement already satisfied: h5py in /usr/local/lib/python3.10/dist-packages (from keras->keras-tuner) (3.12.1)\n",
            "Requirement already satisfied: optree in /usr/local/lib/python3.10/dist-packages (from keras->keras-tuner) (0.13.1)\n",
            "Requirement already satisfied: ml-dtypes in /usr/local/lib/python3.10/dist-packages (from keras->keras-tuner) (0.4.1)\n",
            "Requirement already satisfied: charset-normalizer<4,>=2 in /usr/local/lib/python3.10/dist-packages (from requests->keras-tuner) (3.4.0)\n",
            "Requirement already satisfied: idna<4,>=2.5 in /usr/local/lib/python3.10/dist-packages (from requests->keras-tuner) (3.10)\n",
            "Requirement already satisfied: urllib3<3,>=1.21.1 in /usr/local/lib/python3.10/dist-packages (from requests->keras-tuner) (2.2.3)\n",
            "Requirement already satisfied: certifi>=2017.4.17 in /usr/local/lib/python3.10/dist-packages (from requests->keras-tuner) (2024.8.30)\n",
            "Requirement already satisfied: typing-extensions>=4.5.0 in /usr/local/lib/python3.10/dist-packages (from optree->keras->keras-tuner) (4.12.2)\n",
            "Requirement already satisfied: markdown-it-py>=2.2.0 in /usr/local/lib/python3.10/dist-packages (from rich->keras->keras-tuner) (3.0.0)\n",
            "Requirement already satisfied: pygments<3.0.0,>=2.13.0 in /usr/local/lib/python3.10/dist-packages (from rich->keras->keras-tuner) (2.18.0)\n",
            "Requirement already satisfied: mdurl~=0.1 in /usr/local/lib/python3.10/dist-packages (from markdown-it-py>=2.2.0->rich->keras->keras-tuner) (0.1.2)\n",
            "Downloading keras_tuner-1.4.7-py3-none-any.whl (129 kB)\n",
            "\u001b[2K   \u001b[90m━━━━━━━━━━━━━━━━━━━━━━━━━━━━━━━━━━━━━━━━\u001b[0m \u001b[32m129.1/129.1 kB\u001b[0m \u001b[31m2.4 MB/s\u001b[0m eta \u001b[36m0:00:00\u001b[0m\n",
            "\u001b[?25hDownloading kt_legacy-1.0.5-py3-none-any.whl (9.6 kB)\n",
            "Installing collected packages: kt-legacy, keras-tuner\n",
            "Successfully installed keras-tuner-1.4.7 kt-legacy-1.0.5\n"
          ]
        }
      ]
    },
    {
      "cell_type": "code",
      "source": [
        "from tensorflow.keras.models import Sequential\n",
        "from tensorflow.keras.layers import Dense\n",
        "from kerastuner.tuners import RandomSearch"
      ],
      "metadata": {
        "colab": {
          "base_uri": "https://localhost:8080/"
        },
        "id": "TKe3AH6sqoZ_",
        "outputId": "e5544cd2-9fd0-455b-dfe0-16ae661edb7c"
      },
      "execution_count": 6,
      "outputs": [
        {
          "output_type": "stream",
          "name": "stderr",
          "text": [
            "<ipython-input-6-84c4085b67f7>:3: DeprecationWarning: `import kerastuner` is deprecated, please use `import keras_tuner`.\n",
            "  from kerastuner.tuners import RandomSearch\n"
          ]
        }
      ]
    },
    {
      "cell_type": "markdown",
      "source": [
        "##LOAD DATASET"
      ],
      "metadata": {
        "id": "H1BJPWRlqXJv"
      }
    },
    {
      "cell_type": "code",
      "source": [
        "!pip install kaggle"
      ],
      "metadata": {
        "colab": {
          "base_uri": "https://localhost:8080/"
        },
        "id": "IqnUbyZRqWUX",
        "outputId": "d67d3059-e63f-46d6-b17b-8d5e3fafb72c"
      },
      "execution_count": 9,
      "outputs": [
        {
          "output_type": "stream",
          "name": "stdout",
          "text": [
            "Requirement already satisfied: kaggle in /usr/local/lib/python3.10/dist-packages (1.6.17)\n",
            "Requirement already satisfied: six>=1.10 in /usr/local/lib/python3.10/dist-packages (from kaggle) (1.16.0)\n",
            "Requirement already satisfied: certifi>=2023.7.22 in /usr/local/lib/python3.10/dist-packages (from kaggle) (2024.8.30)\n",
            "Requirement already satisfied: python-dateutil in /usr/local/lib/python3.10/dist-packages (from kaggle) (2.8.2)\n",
            "Requirement already satisfied: requests in /usr/local/lib/python3.10/dist-packages (from kaggle) (2.32.3)\n",
            "Requirement already satisfied: tqdm in /usr/local/lib/python3.10/dist-packages (from kaggle) (4.66.6)\n",
            "Requirement already satisfied: python-slugify in /usr/local/lib/python3.10/dist-packages (from kaggle) (8.0.4)\n",
            "Requirement already satisfied: urllib3 in /usr/local/lib/python3.10/dist-packages (from kaggle) (2.2.3)\n",
            "Requirement already satisfied: bleach in /usr/local/lib/python3.10/dist-packages (from kaggle) (6.2.0)\n",
            "Requirement already satisfied: webencodings in /usr/local/lib/python3.10/dist-packages (from bleach->kaggle) (0.5.1)\n",
            "Requirement already satisfied: text-unidecode>=1.3 in /usr/local/lib/python3.10/dist-packages (from python-slugify->kaggle) (1.3)\n",
            "Requirement already satisfied: charset-normalizer<4,>=2 in /usr/local/lib/python3.10/dist-packages (from requests->kaggle) (3.4.0)\n",
            "Requirement already satisfied: idna<4,>=2.5 in /usr/local/lib/python3.10/dist-packages (from requests->kaggle) (3.10)\n"
          ]
        }
      ]
    },
    {
      "cell_type": "code",
      "source": [
        "import os\n",
        "os.makedirs('/root/.kaggle/', exist_ok=True)\n",
        "!mv kaggle.json /root/.kaggle/\n",
        "!chmod 600 /root/.kaggle/kaggle.json\n"
      ],
      "metadata": {
        "colab": {
          "base_uri": "https://localhost:8080/"
        },
        "id": "Diet2Ne8rJCr",
        "outputId": "04bb185f-ac9b-40ed-835b-3791d4bfb250"
      },
      "execution_count": 13,
      "outputs": [
        {
          "output_type": "stream",
          "name": "stdout",
          "text": [
            "mv: cannot stat 'kaggle.json': No such file or directory\n",
            "chmod: cannot access '/root/.kaggle/kaggle.json': No such file or directory\n"
          ]
        }
      ]
    },
    {
      "cell_type": "code",
      "source": [
        "!kaggle datasets download -d anasfikrihanif/indonesian-food-and-drink-nutrition-dataset\n"
      ],
      "metadata": {
        "colab": {
          "base_uri": "https://localhost:8080/"
        },
        "id": "OfQzcxeKrat-",
        "outputId": "0c87bade-4b6f-446a-f7e2-bdf6b65f2f86"
      },
      "execution_count": 14,
      "outputs": [
        {
          "output_type": "stream",
          "name": "stdout",
          "text": [
            "Dataset URL: https://www.kaggle.com/datasets/anasfikrihanif/indonesian-food-and-drink-nutrition-dataset\n",
            "License(s): CC0-1.0\n",
            "Downloading indonesian-food-and-drink-nutrition-dataset.zip to /content\n",
            "100% 73.7k/73.7k [00:00<00:00, 490kB/s]\n",
            "100% 73.7k/73.7k [00:00<00:00, 489kB/s]\n"
          ]
        }
      ]
    },
    {
      "cell_type": "code",
      "source": [
        "import zipfile\n",
        "\n",
        "with zipfile.ZipFile('indonesian-food-and-drink-nutrition-dataset.zip', 'r') as zip_ref:\n",
        "    zip_ref.extractall('indonesian-food-and-drink-nutrition-dataset')\n",
        "\n",
        "# Muat dataset ke dalam DataFrame\n",
        "data = pd.read_csv('/content/indonesian-food-and-drink-nutrition-dataset/nutrition.csv')\n"
      ],
      "metadata": {
        "id": "XJ6q29fgrdMu"
      },
      "execution_count": 16,
      "outputs": []
    },
    {
      "cell_type": "markdown",
      "source": [
        "##DISTRIBUSI DATA"
      ],
      "metadata": {
        "id": "ykEb0SBzrydG"
      }
    },
    {
      "cell_type": "code",
      "source": [
        "# Hitung total nutrisi\n",
        "data['total_nutrition'] = data['calories'] + data['proteins'] + data['fat'] + data['carbohydrate']\n",
        "\n",
        "# Buat kategori dari total nutrisi\n",
        "bins = [0, 200, 400, 600, 800, np.inf]\n",
        "labels = [1, 2, 3, 4, 5]\n",
        "data['evaluation'] = pd.cut(data['total_nutrition'], bins=bins, labels=labels)\n",
        "\n",
        "# Konversi kolom 'evaluation' ke tipe data numerik\n",
        "data['evaluation'] = data['evaluation'].cat.codes\n",
        "\n",
        "# Misalkan target kolom yang ingin diprediksi adalah 'evaluation'\n",
        "X = data[['calories', 'proteins', 'fat', 'carbohydrate']]\n",
        "y = data['evaluation']\n",
        "\n",
        "# Bagi dataset menjadi train dan validation\n",
        "X_train, X_val, y_train, y_val = train_test_split(X, y, test_size=0.2, random_state=42)\n"
      ],
      "metadata": {
        "id": "hK-tuehlrxfW"
      },
      "execution_count": 24,
      "outputs": []
    },
    {
      "cell_type": "markdown",
      "source": [
        "##HYPER PARAMETER TUNING"
      ],
      "metadata": {
        "id": "mr7Dvaa6r8H-"
      }
    },
    {
      "cell_type": "code",
      "source": [
        "def build_model(hp):\n",
        "    model = Sequential()\n",
        "    model.add(Dense(units=hp.Int('units', min_value=32, max_value=512, step=32),\n",
        "                    activation='relu', input_shape=(X_train.shape[1],)))\n",
        "    model.add(Dense(5, activation='softmax'))  # Output layer for 5 classes\n",
        "    model.compile(optimizer='adam', loss='sparse_categorical_crossentropy', metrics=['accuracy'])\n",
        "    return model\n",
        "\n"
      ],
      "metadata": {
        "id": "TbbSxpL_r-ru"
      },
      "execution_count": 25,
      "outputs": []
    },
    {
      "cell_type": "code",
      "source": [
        "tuner = RandomSearch(\n",
        "    build_model,\n",
        "    objective='val_accuracy',\n",
        "    max_trials=10,  # Jumlah percobaan\n",
        "    executions_per_trial=3,  # Eksekusi per percobaan\n",
        "    directory='my_dir',\n",
        "    project_name='hyperparam_tuning'\n",
        ")\n",
        "\n",
        "tuner.search_space_summary()\n",
        "\n",
        "tuner.search(X_train, y_train, epochs=50, validation_data=(X_val, y_val))\n",
        "\n",
        "tuner.results_summary()\n"
      ],
      "metadata": {
        "colab": {
          "base_uri": "https://localhost:8080/"
        },
        "id": "33QVvELUsAmu",
        "outputId": "e7757db6-7420-4422-afee-716cf09558bf"
      },
      "execution_count": 26,
      "outputs": [
        {
          "output_type": "stream",
          "name": "stdout",
          "text": [
            "Trial 10 Complete [00h 00m 33s]\n",
            "val_accuracy: 0.8888888955116272\n",
            "\n",
            "Best val_accuracy So Far: 0.8925925890604655\n",
            "Total elapsed time: 00h 06m 21s\n",
            "Results summary\n",
            "Results in my_dir/hyperparam_tuning\n",
            "Showing 10 best trials\n",
            "Objective(name=\"val_accuracy\", direction=\"max\")\n",
            "\n",
            "Trial 06 summary\n",
            "Hyperparameters:\n",
            "units: 384\n",
            "Score: 0.8925925890604655\n",
            "\n",
            "Trial 08 summary\n",
            "Hyperparameters:\n",
            "units: 288\n",
            "Score: 0.8913580377896627\n",
            "\n",
            "Trial 09 summary\n",
            "Hyperparameters:\n",
            "units: 224\n",
            "Score: 0.8888888955116272\n",
            "\n",
            "Trial 04 summary\n",
            "Hyperparameters:\n",
            "units: 416\n",
            "Score: 0.8876543243726095\n",
            "\n",
            "Trial 03 summary\n",
            "Hyperparameters:\n",
            "units: 320\n",
            "Score: 0.8864197532335917\n",
            "\n",
            "Trial 05 summary\n",
            "Hyperparameters:\n",
            "units: 160\n",
            "Score: 0.8703703880310059\n",
            "\n",
            "Trial 02 summary\n",
            "Hyperparameters:\n",
            "units: 96\n",
            "Score: 0.8592592676480612\n",
            "\n",
            "Trial 07 summary\n",
            "Hyperparameters:\n",
            "units: 64\n",
            "Score: 0.8567901253700256\n",
            "\n",
            "Trial 01 summary\n",
            "Hyperparameters:\n",
            "units: 256\n",
            "Traceback (most recent call last):\n",
            "  File \"/usr/local/lib/python3.10/dist-packages/keras_tuner/src/engine/base_tuner.py\", line 274, in _try_run_and_update_trial\n",
            "    self._run_and_update_trial(trial, *fit_args, **fit_kwargs)\n",
            "  File \"/usr/local/lib/python3.10/dist-packages/keras_tuner/src/engine/base_tuner.py\", line 239, in _run_and_update_trial\n",
            "    results = self.run_trial(trial, *fit_args, **fit_kwargs)\n",
            "  File \"/usr/local/lib/python3.10/dist-packages/keras_tuner/src/engine/tuner.py\", line 314, in run_trial\n",
            "    obj_value = self._build_and_fit_model(trial, *args, **copied_kwargs)\n",
            "  File \"/usr/local/lib/python3.10/dist-packages/keras_tuner/src/engine/tuner.py\", line 233, in _build_and_fit_model\n",
            "    results = self.hypermodel.fit(hp, model, *args, **kwargs)\n",
            "  File \"/usr/local/lib/python3.10/dist-packages/keras_tuner/src/engine/hypermodel.py\", line 149, in fit\n",
            "    return model.fit(*args, **kwargs)\n",
            "  File \"/usr/local/lib/python3.10/dist-packages/keras/src/utils/traceback_utils.py\", line 122, in error_handler\n",
            "    raise e.with_traceback(filtered_tb) from None\n",
            "  File \"/usr/local/lib/python3.10/dist-packages/optree/ops.py\", line 752, in tree_map\n",
            "    return treespec.unflatten(map(func, *flat_args))\n",
            "ValueError: Invalid dtype: category\n",
            "\n",
            "\n",
            "Trial 00 summary\n",
            "Hyperparameters:\n",
            "units: 512\n",
            "Traceback (most recent call last):\n",
            "  File \"/usr/local/lib/python3.10/dist-packages/keras_tuner/src/engine/base_tuner.py\", line 274, in _try_run_and_update_trial\n",
            "    self._run_and_update_trial(trial, *fit_args, **fit_kwargs)\n",
            "  File \"/usr/local/lib/python3.10/dist-packages/keras_tuner/src/engine/base_tuner.py\", line 239, in _run_and_update_trial\n",
            "    results = self.run_trial(trial, *fit_args, **fit_kwargs)\n",
            "  File \"/usr/local/lib/python3.10/dist-packages/keras_tuner/src/engine/tuner.py\", line 314, in run_trial\n",
            "    obj_value = self._build_and_fit_model(trial, *args, **copied_kwargs)\n",
            "  File \"/usr/local/lib/python3.10/dist-packages/keras_tuner/src/engine/tuner.py\", line 233, in _build_and_fit_model\n",
            "    results = self.hypermodel.fit(hp, model, *args, **kwargs)\n",
            "  File \"/usr/local/lib/python3.10/dist-packages/keras_tuner/src/engine/hypermodel.py\", line 149, in fit\n",
            "    return model.fit(*args, **kwargs)\n",
            "  File \"/usr/local/lib/python3.10/dist-packages/keras/src/utils/traceback_utils.py\", line 122, in error_handler\n",
            "    raise e.with_traceback(filtered_tb) from None\n",
            "  File \"/usr/local/lib/python3.10/dist-packages/optree/ops.py\", line 752, in tree_map\n",
            "    return treespec.unflatten(map(func, *flat_args))\n",
            "ValueError: Invalid dtype: category\n",
            "\n"
          ]
        }
      ]
    },
    {
      "cell_type": "code",
      "source": [
        "# Dapatkan model terbaik\n",
        "best_model = tuner.get_best_models(num_models=1)[0]\n",
        "\n",
        "# Evaluasi model terbaik pada validation set\n",
        "val_loss, val_acc = best_model.evaluate(X_val, y_val)\n",
        "print(f'Validation Loss: {val_loss}')\n",
        "print(f'Validation Accuracy: {val_acc}')\n"
      ],
      "metadata": {
        "colab": {
          "base_uri": "https://localhost:8080/"
        },
        "id": "eOiIj5N4sCX2",
        "outputId": "640efafb-f297-4b43-b0c6-415b4f62d8b0"
      },
      "execution_count": 27,
      "outputs": [
        {
          "output_type": "stream",
          "name": "stderr",
          "text": [
            "/usr/local/lib/python3.10/dist-packages/keras/src/layers/core/dense.py:87: UserWarning: Do not pass an `input_shape`/`input_dim` argument to a layer. When using Sequential models, prefer using an `Input(shape)` object as the first layer in the model instead.\n",
            "  super().__init__(activity_regularizer=activity_regularizer, **kwargs)\n",
            "/usr/local/lib/python3.10/dist-packages/keras/src/saving/saving_lib.py:713: UserWarning: Skipping variable loading for optimizer 'adam', because it has 2 variables whereas the saved optimizer has 10 variables. \n",
            "  saveable.load_own_variables(weights_store.get(inner_path))\n"
          ]
        },
        {
          "output_type": "stream",
          "name": "stdout",
          "text": [
            "\u001b[1m9/9\u001b[0m \u001b[32m━━━━━━━━━━━━━━━━━━━━\u001b[0m\u001b[37m\u001b[0m \u001b[1m0s\u001b[0m 2ms/step - accuracy: 0.9231 - loss: 0.3096  \n",
            "Validation Loss: 0.3544178009033203\n",
            "Validation Accuracy: 0.9037036895751953\n"
          ]
        }
      ]
    },
    {
      "cell_type": "markdown",
      "source": [
        "##TESTING"
      ],
      "metadata": {
        "id": "ISbsPlDIvWlP"
      }
    },
    {
      "cell_type": "code",
      "source": [
        "def predict_evaluation(calories, proteins, fat, carbohydrate):\n",
        "    # Bentuk input pengguna menjadi array yang dapat diterima oleh model\n",
        "    input_data = np.array([[calories, proteins, fat, carbohydrate]])\n",
        "\n",
        "    # Prediksi menggunakan model yang telah dilatih\n",
        "    prediction = best_model.predict(input_data)\n",
        "\n",
        "    # Konversi prediksi ke kategori evaluasi\n",
        "    predicted_category = np.argmax(prediction, axis=1)[0] + 1  # +1 karena kategori dimulai dari 1\n",
        "\n",
        "    return predicted_category\n"
      ],
      "metadata": {
        "id": "jm7FF0WjvWM7"
      },
      "execution_count": 28,
      "outputs": []
    },
    {
      "cell_type": "code",
      "source": [
        "def user_input():\n",
        "    print(\"Masukkan nilai-nilai nutrisi untuk mendapatkan evaluasi:\")\n",
        "\n",
        "    # Meminta input dari pengguna\n",
        "    calories = float(input(\"Kalori (cal): \"))\n",
        "    proteins = float(input(\"Protein (g): \"))\n",
        "    fat = float(input(\"Lemak (g): \"))\n",
        "    carbohydrate = float(input(\"Karbohidrat (g): \"))\n",
        "\n",
        "    # Prediksi evaluasi\n",
        "    evaluation = predict_evaluation(calories, proteins, fat, carbohydrate)\n",
        "\n",
        "    # Tampilkan hasil evaluasi\n",
        "    print(f'Nilai evaluasi untuk nutrisi yang diberikan adalah: {evaluation}')\n",
        "\n",
        "# Panggil fungsi user_input untuk menjalankan prediksi berbasis input pengguna\n",
        "user_input()\n"
      ],
      "metadata": {
        "colab": {
          "base_uri": "https://localhost:8080/"
        },
        "id": "_foDxAaPvcFe",
        "outputId": "c1431117-d5e6-485b-8e13-a95a321feae2"
      },
      "execution_count": 29,
      "outputs": [
        {
          "output_type": "stream",
          "name": "stdout",
          "text": [
            "Masukkan nilai-nilai nutrisi untuk mendapatkan evaluasi:\n",
            "Kalori (cal): 175\n",
            "Protein (g): 3\n",
            "Lemak (g): 0.045\n",
            "Karbohidrat (g): 40\n",
            "\u001b[1m1/1\u001b[0m \u001b[32m━━━━━━━━━━━━━━━━━━━━\u001b[0m\u001b[37m\u001b[0m \u001b[1m0s\u001b[0m 60ms/step\n",
            "Nilai evaluasi untuk nutrisi yang diberikan adalah: 2\n"
          ]
        }
      ]
    },
    {
      "cell_type": "code",
      "source": [
        "def user_input():\n",
        "    print(\"Masukkan nilai-nilai nutrisi untuk mendapatkan evaluasi:\")\n",
        "\n",
        "    # Meminta input dari pengguna\n",
        "    calories = float(input(\"Kalori (cal): \"))\n",
        "    proteins = float(input(\"Protein (g): \"))\n",
        "    fat = float(input(\"Lemak (g): \"))\n",
        "    carbohydrate = float(input(\"Karbohidrat (g): \"))\n",
        "\n",
        "    # Prediksi evaluasi\n",
        "    evaluation = predict_evaluation(calories, proteins, fat, carbohydrate)\n",
        "\n",
        "    # Deskripsi hasil evaluasi\n",
        "    descriptions = {\n",
        "        1: \"buruk untuk Anda\",\n",
        "        2: \"tidak terlalu baik untuk Anda\",\n",
        "        3: \"cukup baik untuk Anda\",\n",
        "        4: \"baik untuk Anda\",\n",
        "        5: \"sangat baik untuk Anda\"\n",
        "    }\n",
        "\n",
        "    # Tampilkan hasil evaluasi dengan deskripsi\n",
        "    print(f'Nilai evaluasi untuk nutrisi yang diberikan adalah: {evaluation} ({descriptions[evaluation]})')\n",
        "\n",
        "# Panggil fungsi user_input untuk menjalankan prediksi berbasis input pengguna\n",
        "user_input()\n"
      ],
      "metadata": {
        "colab": {
          "base_uri": "https://localhost:8080/"
        },
        "id": "-xEiECL6wO5W",
        "outputId": "b7e59966-fc58-45b4-aa55-512811b4b638"
      },
      "execution_count": 30,
      "outputs": [
        {
          "output_type": "stream",
          "name": "stdout",
          "text": [
            "Masukkan nilai-nilai nutrisi untuk mendapatkan evaluasi:\n",
            "Kalori (cal): 175\n",
            "Protein (g): 3\n",
            "Lemak (g): 0.045\n",
            "Karbohidrat (g): 40\n",
            "\u001b[1m1/1\u001b[0m \u001b[32m━━━━━━━━━━━━━━━━━━━━\u001b[0m\u001b[37m\u001b[0m \u001b[1m0s\u001b[0m 22ms/step\n",
            "Nilai evaluasi untuk nutrisi yang diberikan adalah: 2 (tidak terlalu baik untuk Anda)\n"
          ]
        }
      ]
    }
  ]
}